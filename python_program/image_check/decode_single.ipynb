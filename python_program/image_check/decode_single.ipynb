{
 "cells": [
  {
   "cell_type": "code",
   "execution_count": 1,
   "metadata": {},
   "outputs": [],
   "source": [
    "from tqdm import tqdm\n",
    "import glob\n",
    "import os\n",
    "import datetime\n",
    "import numpy as np\n",
    "import pandas as pd"
   ]
  },
  {
   "cell_type": "markdown",
   "metadata": {},
   "source": [
    "## Dev"
   ]
  },
  {
   "cell_type": "code",
   "execution_count": 10,
   "metadata": {},
   "outputs": [
    {
     "data": {
      "text/plain": [
       "46466"
      ]
     },
     "execution_count": 10,
     "metadata": {},
     "output_type": "execute_result"
    }
   ],
   "source": [
    "TtoS = lambda h, m, s : h*3600 + m*60 + s\n",
    "TtoS(12, 54, 26)"
   ]
  },
  {
   "cell_type": "code",
   "execution_count": 17,
   "metadata": {},
   "outputs": [
    {
     "data": {
      "text/plain": [
       "'0x12469'"
      ]
     },
     "execution_count": 17,
     "metadata": {},
     "output_type": "execute_result"
    }
   ],
   "source": [
    "hex(int(TtoS(20, 47, 37)))"
   ]
  },
  {
   "cell_type": "code",
   "execution_count": 21,
   "metadata": {},
   "outputs": [
    {
     "data": {
      "text/plain": [
       "'0x136'"
      ]
     },
     "execution_count": 21,
     "metadata": {},
     "output_type": "execute_result"
    }
   ],
   "source": [
    "hex(310)"
   ]
  },
  {
   "cell_type": "code",
   "execution_count": 12,
   "metadata": {},
   "outputs": [
    {
     "name": "stdout",
     "output_type": "stream",
     "text": [
      "./raw_data/F20250109155526.bin\n",
      "Number of Packets:  23995\n"
     ]
    }
   ],
   "source": [
    "# file_name = './F20240822162559.bin'\n",
    "folder_path = \"./optical/\"\n",
    "os.makedirs(folder_path,exist_ok=True)\n",
    "files = glob.glob('./raw_data/*.bin')\n",
    "files.sort()\n",
    "file_name = files[-2]\n",
    "\n",
    "print(file_name)\n",
    "with open(file_name, 'rb') as f:\n",
    "    packetData = f.read().split(b'\\x1A\\xCF\\xFC\\x1D')[1:]\n",
    "\n",
    "mpduPackets = []\n",
    "print('Number of Packets: ', len(packetData))\n",
    "for packet in packetData:\n",
    "    mpduPackets.append(packet[28:])"
   ]
  },
  {
   "cell_type": "code",
   "execution_count": 13,
   "metadata": {},
   "outputs": [
    {
     "data": {
      "text/plain": [
       "(1303, 1275)"
      ]
     },
     "execution_count": 13,
     "metadata": {},
     "output_type": "execute_result"
    }
   ],
   "source": [
    "len(packetData[0]), len(mpduPackets[0])"
   ]
  },
  {
   "cell_type": "code",
   "execution_count": 14,
   "metadata": {},
   "outputs": [
    {
     "data": {
      "text/plain": [
       "(1275, 1275, 1275, 1275)"
      ]
     },
     "execution_count": 14,
     "metadata": {},
     "output_type": "execute_result"
    }
   ],
   "source": [
    "len(mpduPackets[23025]), len(mpduPackets[23028]), len(mpduPackets[23030]), len(mpduPackets[23035])"
   ]
  },
  {
   "cell_type": "markdown",
   "metadata": {},
   "source": [
    "mpduPackets 24412*1275 (Npacket x mpdusize)\n",
    "1275: \n",
    "    header: [:28]\n",
    "        VCDU: [:2]\n",
    "        PSC: [2:5]\n",
    "        Idle: [6]\n",
    "        MDPU: [6:28]\n",
    "    image: [28:-160] , 1087, payload size\n",
    "    data quality: [-160:], need to check with Hashimoto-san"
   ]
  },
  {
   "cell_type": "code",
   "execution_count": 10,
   "metadata": {},
   "outputs": [
    {
     "name": "stderr",
     "output_type": "stream",
     "text": [
      "100%|██████████| 24412/24412 [00:00<00:00, 1247898.86it/s]"
     ]
    },
    {
     "name": "stdout",
     "output_type": "stream",
     "text": [
      "Total Image Packets:  16621\n",
      "UnClassified Packets:  6\n",
      "Missed packet rate (missed/Image packet %):  0.03609891101618434\n",
      "Sequence number of Missing Image Packets:  set()\n",
      "Sequence number of Missing HK Packets:  set()\n",
      "real missed packets:  0\n"
     ]
    },
    {
     "name": "stderr",
     "output_type": "stream",
     "text": [
      "\n"
     ]
    }
   ],
   "source": [
    "imgData = bytes()\n",
    "# headers = [[VCDU], [PSC], [IB]]\n",
    "headers = [[], [], []]\n",
    "desyncs = []\n",
    "hk = []\n",
    "\n",
    "for k, packet in enumerate(tqdm(mpduPackets)):\n",
    "    \n",
    "    if packet[:2] == b'\\x55\\x40':\n",
    "        headers[0].append('IM')\n",
    "        # imgData += packet[28:-160]\n",
    "    elif packet[:2] == b'\\x40\\x3F':\n",
    "        headers[0].append('HK')\n",
    "        hk.append(packet.hex())\n",
    "    else:\n",
    "        headers[0].append('UnClassified')\n",
    "    \n",
    "    headers[1].append(int.from_bytes(packet[2:5], 'big'))\n",
    "    headers[2].append(packet[6])\n",
    "\n",
    "headerDF = pd.DataFrame(np.array(headers).T, columns=['VCDU', 'PSC', 'IB'])\n",
    "\n",
    "# imgData = imgData.rstrip(b'\\0')\n",
    "\n",
    "print('Total Image Packets: ', headerDF[headerDF['VCDU'] == 'IM'].shape[0])\n",
    "# print('Total images: ',len(imgData))\n",
    "print('UnClassified Packets: ', headerDF[headerDF['VCDU'] == 'UnClassified'].shape[0])\n",
    "print('Missed packet rate (missed/Image packet %): ', \n",
    "    (headerDF[headerDF['VCDU'] == 'UnClassified'].shape[0]/headerDF[headerDF['VCDU'] == 'IM'].shape[0])*100)\n",
    "\n",
    "IM, HK = headerDF[headerDF['VCDU'] == 'IM']['PSC'].astype(int), headerDF[headerDF['VCDU'] == 'HK']['PSC'].astype(int)\n",
    "IM_range = set(range(int(min(IM)), int(max(IM))+1))\n",
    "HK_range = set(range(int(min(HK)), int(max(HK))+1))\n",
    "missing_IM = IM_range - set(IM)\n",
    "missing_HK = HK_range - set(HK)\n",
    "\n",
    "print('Sequence number of Missing Image Packets: ', missing_IM)\n",
    "print('Sequence number of Missing HK Packets: ', missing_HK)\n",
    "print('real missed packets: ', len(missing_IM)+len(missing_HK))\n",
    "\n",
    "# nfiles = len(glob.glob(os.path.join(folder_path, '*.bin')))\n",
    "# dt_now = datetime.datetime.now()\n",
    "# time_now = dt_now.strftime('%d_%H%M%S')\n",
    "# with open(f'./optical/opt_frame_{nfiles}_{time_now}.bin', 'wb') as f:\n",
    "#     f.write(imgData)\n",
    "\n",
    "# print(desyncs)"
   ]
  },
  {
   "cell_type": "code",
   "execution_count": 77,
   "metadata": {},
   "outputs": [
    {
     "data": {
      "text/plain": [
       "(7518, 7362, 620, 8137)"
      ]
     },
     "execution_count": 77,
     "metadata": {},
     "output_type": "execute_result"
    }
   ],
   "source": [
    "len(HK_range), len(HK), min(HK), max(HK)"
   ]
  },
  {
   "cell_type": "code",
   "execution_count": 20,
   "metadata": {},
   "outputs": [
    {
     "name": "stderr",
     "output_type": "stream",
     "text": [
      "100%|██████████| 24412/24412 [00:00<00:00, 875281.88it/s]\n"
     ]
    }
   ],
   "source": [
    "imgData = bytes()\n",
    "i = 0\n",
    "j=0\n",
    "l=0\n",
    "desyncs = []\n",
    "hk = []\n",
    "index = 1\n",
    "fout = open('/home/amos/VERTECS/python_program/image_check/DQ_check/header_out_hex.txt','w')\n",
    "\n",
    "for k, packet in enumerate(tqdm(mpduPackets)):\n",
    "    \n",
    "    if packet[:2] == b'\\x55\\x40':\n",
    "        i += 1\n",
    "        # index = int.from_bytes(packet[26:28],'big')\n",
    "        # imgData += packet[28:-160]\n",
    "    elif packet[:2] == b'\\x40\\x3F':\n",
    "    # elif packet[:2] == b'\\x51\\xFF':\n",
    "        hk.append(packet.hex())\n",
    "        pass\n",
    "    else:\n",
    "        desyncs.append((k,index,packet[:2].hex()))\n",
    "        j+=1\n",
    "        \n",
    "    fout.write(\n",
    "        f'{packet[:2].hex()}, {packet[2:5].hex()}, {packet[6]}, {packet[6:28].hex()}\\n'\n",
    "    )\n",
    "    \n",
    "fout.close()"
   ]
  },
  {
   "cell_type": "code",
   "execution_count": 11,
   "metadata": {},
   "outputs": [
    {
     "name": "stderr",
     "output_type": "stream",
     "text": [
      "100%|██████████| 24412/24412 [00:00<00:00, 569270.94it/s]\n"
     ]
    }
   ],
   "source": [
    "imgData = bytes()\n",
    "status = 'UK'\n",
    "desyncs = []\n",
    "hk = []\n",
    "fout = open('/home/amos/VERTECS/python_program/image_check/DQ_check/header_out.txt','w')\n",
    "\n",
    "for k, packet in enumerate(tqdm(mpduPackets)):\n",
    "    \n",
    "    if packet[:2] == b'\\x55\\x40':\n",
    "        status = 'IM'\n",
    "    elif packet[:2] == b'\\x40\\x3F':\n",
    "        hk.append(packet.hex())\n",
    "        status = 'HK'\n",
    "        pass\n",
    "    else:\n",
    "        status = 'UnClassified'\n",
    "        \n",
    "    fout.write(\n",
    "        f'{status}, {int.from_bytes(packet[2:5], 'big')}, {packet[6]}, {packet[6:28].hex()}, {packet[-160:].hex()}\\n'\n",
    "    )\n",
    "    # fout.write(\n",
    "    #     f'{status}, {int.from_bytes(packet[2:5], 'big')}, {packet[6]}, {packet[6:28].hex()}, {int.from_bytes(packet[-160:], 'big')}\\n'\n",
    "    # )\n",
    "    \n",
    "fout.close()"
   ]
  },
  {
   "cell_type": "code",
   "execution_count": 9,
   "metadata": {},
   "outputs": [
    {
     "name": "stdout",
     "output_type": "stream",
     "text": [
      "403f 5540\n"
     ]
    }
   ],
   "source": [
    "print('\\x40\\x3F'.encode('utf-8').hex(), '\\x55\\x40'.encode('utf-8').hex())"
   ]
  },
  {
   "cell_type": "code",
   "execution_count": 14,
   "metadata": {},
   "outputs": [
    {
     "data": {
      "text/plain": [
       "21824"
      ]
     },
     "execution_count": 14,
     "metadata": {},
     "output_type": "execute_result"
    }
   ],
   "source": [
    "int.from_bytes(b'\\x55\\x40')"
   ]
  },
  {
   "cell_type": "markdown",
   "metadata": {},
   "source": [
    "## Auto test"
   ]
  },
  {
   "cell_type": "markdown",
   "metadata": {},
   "source": [
    "### pre"
   ]
  },
  {
   "cell_type": "code",
   "execution_count": 2,
   "metadata": {},
   "outputs": [
    {
     "name": "stderr",
     "output_type": "stream",
     "text": [
      "  0%|          | 0/88 [00:00<?, ?it/s]"
     ]
    },
    {
     "name": "stderr",
     "output_type": "stream",
     "text": [
      " 20%|██        | 18/88 [03:12<12:46, 10.95s/it]"
     ]
    },
    {
     "name": "stdout",
     "output_type": "stream",
     "text": [
      "Error in ./raw_data/test_x-band/2nd_-20°C/F20250109171419.bin: min() iterable argument is empty\n",
      "Error in ./raw_data/test_x-band/2nd_-20°C/F20250109171520.bin: min() iterable argument is empty\n",
      "Error in ./raw_data/test_x-band/2nd_-20°C/F20250109171537.bin: min() iterable argument is empty\n",
      "Error in ./raw_data/test_x-band/2nd_-20°C/F20250109171605.bin: min() iterable argument is empty\n",
      "Error in ./raw_data/test_x-band/2nd_-20°C/F20250109171711.bin: min() iterable argument is empty\n"
     ]
    },
    {
     "name": "stderr",
     "output_type": "stream",
     "text": [
      " 78%|███████▊  | 69/88 [12:10<03:25, 10.82s/it]"
     ]
    },
    {
     "name": "stdout",
     "output_type": "stream",
     "text": [
      "Error in ./raw_data/test_x-band/Before_TVT/F20250107193448.bin: min() iterable argument is empty\n",
      "Error in ./raw_data/test_x-band/Before_TVT/F20250107193641.bin: min() iterable argument is empty\n",
      "Error in ./raw_data/test_x-band/Before_TVT/F20250107194042.bin: min() iterable argument is empty\n"
     ]
    },
    {
     "name": "stderr",
     "output_type": "stream",
     "text": [
      " 90%|████████▉ | 79/88 [13:05<01:12,  8.00s/it]"
     ]
    },
    {
     "name": "stdout",
     "output_type": "stream",
     "text": [
      "Error in ./raw_data/test_x-band/C20250110163605.bin: min() iterable argument is empty\n",
      "Error in ./raw_data/test_x-band/C20250110164341.bin: min() iterable argument is empty\n",
      "Error in ./raw_data/test_x-band/C20250110164457.bin: min() iterable argument is empty\n"
     ]
    },
    {
     "name": "stderr",
     "output_type": "stream",
     "text": [
      " 94%|█████████▍| 83/88 [13:16<00:25,  5.10s/it]"
     ]
    },
    {
     "name": "stdout",
     "output_type": "stream",
     "text": [
      "Error in ./raw_data/test_x-band/F20250120132129.bin: min() iterable argument is empty\n"
     ]
    },
    {
     "name": "stderr",
     "output_type": "stream",
     "text": [
      " 98%|█████████▊| 86/88 [13:39<00:12,  6.35s/it]"
     ]
    },
    {
     "name": "stdout",
     "output_type": "stream",
     "text": [
      "Error in ./raw_data/test_x-band/F20250127155842.bin: min() iterable argument is empty\n"
     ]
    },
    {
     "name": "stderr",
     "output_type": "stream",
     "text": [
      "100%|██████████| 88/88 [13:50<00:00,  9.44s/it]\n"
     ]
    }
   ],
   "source": [
    "files = glob.glob('./raw_data/test_x-band/*.bin')\n",
    "files += glob.glob('./raw_data/test_x-band/*/*.bin')\n",
    "files.sort()\n",
    "# files = files[:2]\n",
    "\n",
    "for file_name in tqdm(files):\n",
    "\n",
    "    with open(file_name, 'rb') as f:\n",
    "        packetData = f.read().split(b'\\x1A\\xCF\\xFC\\x1D')[1:]\n",
    "        \n",
    "    fout_name = f'./DQ_check/{'/'.join(file_name.split('/')[2:])}'\n",
    "    fout_name = fout_name.replace('.bin', '_header.txt')\n",
    "    fout = open(fout_name, 'w')\n",
    "        \n",
    "    mpduPackets = []\n",
    "    \n",
    "    for packet in packetData:\n",
    "        mpduPackets.append(packet[28:])\n",
    "        \n",
    "    imgData = bytes()\n",
    "    headers = [[], [], [], []]\n",
    "    desyncs = []\n",
    "    hk = []\n",
    "\n",
    "    for k, packet in enumerate(mpduPackets):\n",
    "        \n",
    "        if packet[:2] == b'\\x55\\x40':\n",
    "            headers[0].append('IM')\n",
    "            # imgData += packet[28:-160]\n",
    "        elif packet[:2] == b'\\x40\\x3F':\n",
    "            headers[0].append('HK')\n",
    "            # hk.append(packet.hex())\n",
    "        else:\n",
    "            headers[0].append('UnClassified')\n",
    "        \n",
    "        headers[1].append(int.from_bytes(packet[2:5], 'big'))\n",
    "        headers[2].append(packet[6])\n",
    "        headers[3].append(packet[-160:].hex())\n",
    "        fout.write(\n",
    "            f'{headers[0][-1]}, {headers[1][-1]}, {headers[2][-1]}, {headers[3][-1]}\\n'\n",
    "        )\n",
    "    fout.write(f'Number of Packets: {len(packetData)}\\n')\n",
    "    fout.close()\n",
    "    # imgData = imgData.rstrip(b'\\0')\n",
    "\n",
    "    try:\n",
    "        fout = open(fout_name, 'a')\n",
    "        headerDF = pd.DataFrame(np.array(headers).T, columns=['VCDU', 'PSC', 'IB', 'Parity'])\n",
    "        fout.write(f'Total Image Packets: {headerDF[headerDF['VCDU'] == 'IM'].shape[0]}\\n')\n",
    "        fout.write(f'UnClassified Packets: {headerDF[headerDF['VCDU'] == 'UnClassified'].shape[0]}\\n')\n",
    "\n",
    "        IM, HK = headerDF[headerDF['VCDU'] == 'IM']['PSC'].astype(int), headerDF[headerDF['VCDU'] == 'HK']['PSC'].astype(int)\n",
    "        IM_range = set(range(0, 16620))\n",
    "        max_HK = HK[HK < 10000].max()\n",
    "        HK_range = set(range(int(min(HK)), int(max_HK)+1))\n",
    "        missing_IM = IM_range - set(IM)\n",
    "        missing_HK = HK_range - set(HK)\n",
    "\n",
    "        fout.write(f'Sequence number of Missing Image Packets: {missing_IM}\\n')\n",
    "        fout.write(f'Number of Missing Image Packets: {len(missing_IM)}\\n')\n",
    "        fout.write(f'Sequence number of Missing HK Packets: {missing_HK}\\n')\n",
    "        fout.write(f'Number of Missing HK Packets: {len(missing_HK)}\\n')\n",
    "        fout.write(f'Total missing packets: {len(missing_IM)+len(missing_HK)}\\n')\n",
    "        fout.write(f'Missed image rate (missing image/Image packet %): {(len(missing_IM)/16621)*100}\\n')\n",
    "        fout.close()\n",
    "        \n",
    "        # with open(f'./optical/opt_frame_{\"_\".join(file_name.split('/')[2:])}', 'wb') as f:\n",
    "        #     f.write(imgData)\n",
    "    \n",
    "    except Exception as e:\n",
    "        print(f'Error in {file_name}: {e}')\n"
   ]
  },
  {
   "cell_type": "markdown",
   "metadata": {},
   "source": [
    "### new"
   ]
  },
  {
   "cell_type": "code",
   "execution_count": 4,
   "metadata": {},
   "outputs": [
    {
     "name": "stderr",
     "output_type": "stream",
     "text": [
      "100%|██████████| 3/3 [00:00<00:00, 31.26it/s]\n"
     ]
    }
   ],
   "source": [
    "files = glob.glob('./raw_data/test_x-band/*.bin')\n",
    "files += glob.glob('./raw_data/test_x-band/*/*.bin')\n",
    "files.sort()\n",
    "# files = files[:2]\n",
    "\n",
    "for file_name in tqdm(files[:3]):\n",
    "\n",
    "    with open(file_name, 'rb') as f:\n",
    "        packetData = f.read().split(b'\\x1A\\xCF\\xFC\\x1D')[1:]\n",
    "        \n",
    "    fout_name = f'./DQ_check/{'/'.join(file_name.split('/')[2:])}'\n",
    "    fout_name = fout_name.replace('.bin', '_all_header.txt')\n",
    "    fout = open(fout_name, 'w')\n",
    "        \n",
    "    mpduPackets = []\n",
    "    \n",
    "    for packet in packetData:\n",
    "        mpduPackets.append(packet)\n",
    "        \n",
    "    imgData = bytes()\n",
    "    headers = [[], [], [], []]\n",
    "    desyncs = []\n",
    "    hk = []\n",
    "\n",
    "    for k, packet in enumerate(mpduPackets):\n",
    "        \n",
    "        if packet[28:30] == b'\\x55\\x40':\n",
    "            headers[0].append(packet[28:30].hex())\n",
    "            # imgData += packet[28:-160]\n",
    "        elif packet[28:30] == b'\\x40\\x3F':\n",
    "            headers[0].append(packet[28:30].hex())\n",
    "            # hk.append(packet.hex())\n",
    "        else:\n",
    "            headers[0].append(packet[28:30].hex())\n",
    "        \n",
    "        headers[1].append(int.from_bytes(packet[30:33], 'big'))\n",
    "        fout.write(\n",
    "            f'{packet[:28].hex()}, {headers[0][-1]}, {headers[1][-1]}\\n'\n",
    "        )\n",
    "    # fout.write(f'Number of Packets: {len(packetData)}\\n')\n",
    "    fout.close()\n",
    "    # imgData = imgData.rstrip(b'\\0')"
   ]
  },
  {
   "cell_type": "code",
   "execution_count": 32,
   "metadata": {},
   "outputs": [
    {
     "name": "stderr",
     "output_type": "stream",
     "text": [
      " 27%|██▋       | 24/88 [00:01<00:01, 32.96it/s]"
     ]
    },
    {
     "name": "stdout",
     "output_type": "stream",
     "text": [
      "Error in ./raw_data/test_x-band/2nd_-20°C/F20250109171419.bin: min() iterable argument is empty\n",
      "Error in ./raw_data/test_x-band/2nd_-20°C/F20250109171520.bin: min() iterable argument is empty\n",
      "Error in ./raw_data/test_x-band/2nd_-20°C/F20250109171537.bin: min() iterable argument is empty\n",
      "Error in ./raw_data/test_x-band/2nd_-20°C/F20250109171605.bin: min() iterable argument is empty\n",
      "Error in ./raw_data/test_x-band/2nd_-20°C/F20250109171711.bin: min() iterable argument is empty\n"
     ]
    },
    {
     "name": "stderr",
     "output_type": "stream",
     "text": [
      " 85%|████████▌ | 75/88 [00:03<00:00, 29.73it/s]"
     ]
    },
    {
     "name": "stdout",
     "output_type": "stream",
     "text": [
      "Error in ./raw_data/test_x-band/Before_TVT/F20250107193448.bin: min() iterable argument is empty\n",
      "Error in ./raw_data/test_x-band/Before_TVT/F20250107193641.bin: min() iterable argument is empty\n",
      "Error in ./raw_data/test_x-band/Before_TVT/F20250107194042.bin: min() iterable argument is empty\n"
     ]
    },
    {
     "name": "stderr",
     "output_type": "stream",
     "text": [
      " 99%|█████████▉| 87/88 [00:04<00:00, 31.44it/s]"
     ]
    },
    {
     "name": "stdout",
     "output_type": "stream",
     "text": [
      "Error in ./raw_data/test_x-band/C20250110163605.bin: min() iterable argument is empty\n",
      "Error in ./raw_data/test_x-band/C20250110164341.bin: min() iterable argument is empty\n",
      "Error in ./raw_data/test_x-band/C20250110164457.bin: min() iterable argument is empty\n",
      "Error in ./raw_data/test_x-band/F20250120132129.bin: min() iterable argument is empty\n",
      "Error in ./raw_data/test_x-band/F20250127155842.bin: min() iterable argument is empty\n"
     ]
    },
    {
     "name": "stderr",
     "output_type": "stream",
     "text": [
      "100%|██████████| 88/88 [00:04<00:00, 21.47it/s]\n"
     ]
    }
   ],
   "source": [
    "def find_consecutive_ranges(lst):\n",
    "    if not lst:\n",
    "        return []\n",
    "    \n",
    "    ranges = []\n",
    "    start = lst[0]\n",
    "    \n",
    "    for i in range(1, len(lst)):\n",
    "        if lst[i] != lst[i - 1] + 1:\n",
    "            ranges.append([start, lst[i - 1]])\n",
    "            start = lst[i]\n",
    "    \n",
    "    ranges.append([start, lst[-1]])  # Append the last range\n",
    "    \n",
    "    return ranges\n",
    "\n",
    "files = glob.glob('./raw_data/test_x-band/*.bin')\n",
    "files += glob.glob('./raw_data/test_x-band/*/*.bin')\n",
    "files.sort()\n",
    "# files = files[:2]\n",
    "\n",
    "for file_name in tqdm(files):\n",
    "\n",
    "    with open(file_name, 'rb') as f:\n",
    "        mpduPackets = f.read().split(b'\\x1A\\xCF\\xFC\\x1D')[1:]\n",
    "        \n",
    "    fout_name = f'./DQ_check/{'/'.join(file_name.split('/')[2:])}'\n",
    "    fout_name = fout_name.replace('.bin', '_header.txt')\n",
    "    fout = open(fout_name, 'w')\n",
    "        \n",
    "    imgData = bytes()\n",
    "    headers = [[], [], [], []]\n",
    "    desyncs = []\n",
    "    # hk = []\n",
    "\n",
    "    for k, packet in enumerate(mpduPackets):\n",
    "        \n",
    "        if packet[28:30] == b'\\x55\\x40':\n",
    "            headers[0].append('IM')\n",
    "            # imgData += packet[28:-160]\n",
    "        elif packet[28:30] == b'\\x40\\x3F':\n",
    "            headers[0].append('HK')\n",
    "            # hk.append(packet.hex())\n",
    "        else:\n",
    "            headers[0].append('UnClassified')\n",
    "        \n",
    "        headers[1].append(int.from_bytes(packet[30:33], 'big'))\n",
    "        headers[2].append(packet[34])\n",
    "        headers[3].append(packet[1])\n",
    "        fout.write(\n",
    "            f'{headers[0][-1]}, {headers[1][-1]}, {headers[2][-1]}, {headers[3][-1]}\\n'\n",
    "        )\n",
    "    fout.write(f'Number of Packets: {len(mpduPackets)}\\n')\n",
    "    fout.close()\n",
    "    # imgData = imgData.rstrip(b'\\0')\n",
    "\n",
    "    try:\n",
    "        fout = open(fout_name, 'a')\n",
    "        headerDF = pd.DataFrame(np.array(headers).T, columns=['VCDU', 'PSC', 'IB', 'DQ'])\n",
    "        fout.write(f'Total Image Packets: {headerDF[headerDF['VCDU'] == 'IM'].shape[0]}\\n')\n",
    "        fout.write(f'UnClassified Packets: {headerDF[headerDF['VCDU'] == 'UnClassified'].shape[0]}\\n')\n",
    "\n",
    "        IM, HK = headerDF[headerDF['VCDU'] == 'IM']['PSC'].astype(int), headerDF[headerDF['VCDU'] == 'HK']['PSC'].astype(int)\n",
    "        bad_IM, bad_HK = headerDF[headerDF['DQ'] != '0']['PSC'].astype(int), headerDF[headerDF['DQ'] != '0']['PSC'].astype(int)\n",
    "        IM_range = set(range(0, 16620))\n",
    "        max_HK = HK[HK < 10000].max()\n",
    "        HK_range = set(range(int(min(HK)), int(max_HK)+1))\n",
    "        missing_IM = IM_range - set(IM)\n",
    "        missing_HK = HK_range - set(HK)\n",
    "        missing_IM = sorted(list(missing_IM))\n",
    "        missing_HK = sorted(list(missing_HK))\n",
    "        # request_IM = set(IM) | set(bad_IM)\n",
    "        # request_HK = set(HK) | set(bad_HK)\n",
    "\n",
    "        fout.write(f'Sequence number of Missing Image Packets: {missing_IM}\\n')\n",
    "        fout.write(f'Number of Missing Image Packets: {len(missing_IM)}\\n')\n",
    "        fout.write(f'Sequence number of Missing HK Packets: {missing_HK}\\n')\n",
    "        fout.write(f'Number of bad quality Image Packets: {len(bad_IM)}\\n')\n",
    "        fout.write(f'Number of Missing HK Packets: {len(missing_HK)}\\n')\n",
    "        fout.write(f'Number of bad quality HK Packets: {len(bad_HK)}\\n')\n",
    "        fout.write(f'Total missing packets: {len(missing_IM)+len(missing_HK)}\\n')\n",
    "        fout.write(f'Segment of request image packets: {find_consecutive_ranges(list(missing_IM))}\\n')\n",
    "        fout.write(f'Segment of request HK packets: {find_consecutive_ranges(list(missing_HK))}\\n')\n",
    "        fout.write(f'Request image packets rate (missing image/Image packet %): {(len(missing_IM)/16621)*100}\\n')\n",
    "        fout.close()\n",
    "        \n",
    "        # with open(f'./optical/opt_frame_{\"_\".join(file_name.split('/')[2:])}', 'wb') as f:\n",
    "        #     f.write(imgData)\n",
    "    \n",
    "    except Exception as e:\n",
    "        print(f'Error in {file_name}: {e}')"
   ]
  },
  {
   "cell_type": "code",
   "execution_count": 57,
   "metadata": {},
   "outputs": [
    {
     "data": {
      "text/plain": [
       "'F20250127162146.bin'"
      ]
     },
     "execution_count": 57,
     "metadata": {},
     "output_type": "execute_result"
    }
   ],
   "source": [
    "file_name.split('/')[-1]"
   ]
  },
  {
   "cell_type": "code",
   "execution_count": 41,
   "metadata": {},
   "outputs": [],
   "source": [
    "year = int(file_name.split('/')[-1][1:5])\n",
    "month = int(file_name.split('/')[-1][5:7])\n",
    "day = int(file_name.split('/')[-1][7:9])\n",
    "hour = int(file_name.split('/')[-1][9:11])\n",
    "minute = int(file_name.split('/')[-1][11:13])\n",
    "second = int(file_name.split('/')[-1][13:15])\n",
    "Y = hex(year-2025)[2:]\n",
    "M = hex(month)[2:]\n",
    "S = hex(hour*3600 + minute*60 + second)[2:]"
   ]
  },
  {
   "cell_type": "code",
   "execution_count": 45,
   "metadata": {},
   "outputs": [
    {
     "data": {
      "text/plain": [
       "('0e', '61', 'a')"
      ]
     },
     "execution_count": 45,
     "metadata": {},
     "output_type": "execute_result"
    }
   ],
   "source": [
    "S.zfill(5)[:2], S.zfill(5)[2:4], S.zfill(5)[4:]"
   ]
  },
  {
   "cell_type": "code",
   "execution_count": 46,
   "metadata": {},
   "outputs": [
    {
     "data": {
      "text/plain": [
       "5"
      ]
     },
     "execution_count": 46,
     "metadata": {},
     "output_type": "execute_result"
    }
   ],
   "source": [
    "lista = [[506, 514], [524, 553], [2264, 2298], [5396, 5671], [6616, 6711]]\n",
    "len(lista)"
   ]
  },
  {
   "cell_type": "code",
   "execution_count": 55,
   "metadata": {},
   "outputs": [
    {
     "name": "stdout",
     "output_type": "stream",
     "text": [
      "CM IM 6 02 01 506 514\n",
      "\n",
      "CM IM 6 03 01 524 553\n",
      "\n",
      "CM IM 6 04 01 2264 2298\n",
      "\n",
      "CM IM 6 05 01 5396 5671\n",
      "\n",
      "CM IM 6 06 01 6616 6711\n",
      "\n"
     ]
    }
   ],
   "source": [
    "for i, segment in enumerate(lista):\n",
    "    print(f'CM IM {5+1} {str(hex(i+2)[2:]).zfill(2)} 01 {segment[0]} {segment[1]}\\n')"
   ]
  },
  {
   "cell_type": "code",
   "execution_count": 14,
   "metadata": {},
   "outputs": [
    {
     "data": {
      "text/plain": [
       "300"
      ]
     },
     "execution_count": 14,
     "metadata": {},
     "output_type": "execute_result"
    }
   ],
   "source": [
    "def packet_number(file_name):\n",
    "    with open(file_name, 'r') as f:\n",
    "        missingpackets = f.read().split('*:')[1:]\n",
    "    for i, packet in enumerate(missingpackets):\n",
    "        missingpackets[i] = int(packet.split('\\n')[0])\n",
    "    return sum(missingpackets)\n",
    "\n",
    "packet_number('/home/amos/VERTECS/python_program/image_check/request_missing/test.txt')"
   ]
  },
  {
   "cell_type": "code",
   "execution_count": 17,
   "metadata": {},
   "outputs": [],
   "source": [
    "files = glob.glob('./raw_data/test_x-band/*.bin')\n",
    "files += glob.glob('./raw_data/test_x-band/*/*.bin')\n",
    "files.sort()\n",
    "# files = files[:2]\n",
    "\n",
    "with open(files[0], 'rb') as f:\n",
    "    mpduPackets = f.read().split(b'\\x1A\\xCF\\xFC\\x1D')[1:]"
   ]
  },
  {
   "cell_type": "code",
   "execution_count": 23,
   "metadata": {},
   "outputs": [
    {
     "data": {
      "text/plain": [
       "False"
      ]
     },
     "execution_count": 23,
     "metadata": {},
     "output_type": "execute_result"
    }
   ],
   "source": [
    "mpduPackets[10][1]!=0"
   ]
  },
  {
   "cell_type": "code",
   "execution_count": 14,
   "metadata": {},
   "outputs": [
    {
     "data": {
      "text/plain": [
       "[1, 2, 3, 4, 5]"
      ]
     },
     "execution_count": 14,
     "metadata": {},
     "output_type": "execute_result"
    }
   ],
   "source": [
    "sorted(list(set([1, 2, 3,5,4])))"
   ]
  },
  {
   "cell_type": "code",
   "execution_count": 9,
   "metadata": {},
   "outputs": [
    {
     "data": {
      "text/plain": [
       "{1, 3, 5}"
      ]
     },
     "execution_count": 9,
     "metadata": {},
     "output_type": "execute_result"
    }
   ],
   "source": [
    "set([1, 5, 3,4,2])-set([4, 2])"
   ]
  },
  {
   "cell_type": "code",
   "execution_count": 6,
   "metadata": {},
   "outputs": [
    {
     "data": {
      "text/plain": [
       "[[1, 3], [5, 7], [9, 11]]"
      ]
     },
     "execution_count": 6,
     "metadata": {},
     "output_type": "execute_result"
    }
   ],
   "source": [
    "def find_consecutive_ranges(lst):\n",
    "    if not lst:\n",
    "        return []\n",
    "    \n",
    "    ranges = []\n",
    "    start = lst[0]\n",
    "    \n",
    "    for i in range(1, len(lst)):\n",
    "        if lst[i] != lst[i - 1] + 1:\n",
    "            ranges.append([start, lst[i - 1]])\n",
    "            start = lst[i]\n",
    "    \n",
    "    ranges.append([start, lst[-1]])  # Append the last range\n",
    "    \n",
    "    return ranges\n",
    "\n",
    "find_consecutive_ranges([1, 2, 3, 5, 6, 7, 9, 10, 11])"
   ]
  },
  {
   "cell_type": "code",
   "execution_count": 3,
   "metadata": {},
   "outputs": [
    {
     "data": {
      "text/plain": [
       "'./DQ_check/test_x-band/F20250127162146_header.txt'"
      ]
     },
     "execution_count": 3,
     "metadata": {},
     "output_type": "execute_result"
    }
   ],
   "source": [
    "fout_name"
   ]
  },
  {
   "cell_type": "markdown",
   "metadata": {},
   "source": [
    "### summarize out"
   ]
  },
  {
   "cell_type": "code",
   "execution_count": 21,
   "metadata": {},
   "outputs": [
    {
     "name": "stderr",
     "output_type": "stream",
     "text": [
      " 42%|████▏     | 37/88 [00:00<00:00, 115.67it/s]"
     ]
    },
    {
     "name": "stdout",
     "output_type": "stream",
     "text": [
      "./DQ_check/test_x-band/2nd_-20°C/F20250109171419_header.txt is empty\n",
      "./DQ_check/test_x-band/2nd_-20°C/F20250109171520_header.txt is empty\n",
      "./DQ_check/test_x-band/2nd_-20°C/F20250109171537_header.txt is empty\n",
      "./DQ_check/test_x-band/2nd_-20°C/F20250109171605_header.txt is empty\n",
      "./DQ_check/test_x-band/2nd_-20°C/F20250109171711_header.txt is empty\n"
     ]
    },
    {
     "name": "stderr",
     "output_type": "stream",
     "text": [
      "100%|██████████| 88/88 [00:00<00:00, 123.05it/s]"
     ]
    },
    {
     "name": "stdout",
     "output_type": "stream",
     "text": [
      "Error in ./DQ_check/test_x-band/Before_TVT/F20250107193448_header.txt: list index out of range\n",
      "./DQ_check/test_x-band/Before_TVT/F20250107193641_header.txt is empty\n",
      "./DQ_check/test_x-band/Before_TVT/F20250107194042_header.txt is empty\n",
      "./DQ_check/test_x-band/C20250110163605_header.txt is empty\n",
      "./DQ_check/test_x-band/C20250110164341_header.txt is empty\n",
      "./DQ_check/test_x-band/C20250110164457_header.txt is empty\n",
      "./DQ_check/test_x-band/F20250120132129_header.txt is empty\n",
      "./DQ_check/test_x-band/F20250127155842_header.txt is empty\n"
     ]
    },
    {
     "name": "stderr",
     "output_type": "stream",
     "text": [
      "\n"
     ]
    }
   ],
   "source": [
    "files = glob.glob('./DQ_check/test_x-band/*.txt')\n",
    "files += glob.glob('./DQ_check/test_x-band/*/*.txt')\n",
    "files.sort()\n",
    "\n",
    "N_packets = []\n",
    "N_IM_packets = []\n",
    "N_IM_missing = []\n",
    "N_HK_missing = []\n",
    "folder_path = []\n",
    "filename = []\n",
    "\n",
    "for file_name in tqdm(files):\n",
    "    \n",
    "    with open(file_name, 'r') as f:\n",
    "        \n",
    "        Out = f.readlines()\n",
    "        if len(Out) < 10:\n",
    "            print(f'{file_name} is empty')\n",
    "            continue\n",
    "        else:\n",
    "            out = Out[-9:]\n",
    "    \n",
    "    try:\n",
    "        N_packets.append(int(out[0].split(': ')[1].strip()))\n",
    "        N_IM_packets.append(int(out[1].split(': ')[1].strip()))\n",
    "        N_IM_missing.append(int(out[4].split(': ')[1].strip()))\n",
    "        N_HK_missing.append(int(out[6].split(': ')[1].strip()))\n",
    "        folder_path.append('/'.join(file_name.split('/')[2:-1]))\n",
    "        filename.append(file_name.split('/')[-1])\n",
    "    except Exception as e:\n",
    "        print(f'Error in {file_name}: {e}')\n",
    "        continue\n",
    "    \n",
    "df = pd.DataFrame({\n",
    "    'N_packets': N_packets,\n",
    "    'N_IM_packets': N_IM_packets,\n",
    "    'N_IM_missing': N_IM_missing,\n",
    "    'N_HK_missing': N_HK_missing,\n",
    "    'folder_path': folder_path,\n",
    "    'filename': filename\n",
    "})\n",
    "\n",
    "df.to_csv('./DQ_check/summary.csv', index=False)"
   ]
  },
  {
   "cell_type": "code",
   "execution_count": 50,
   "metadata": {},
   "outputs": [
    {
     "data": {
      "image/png": "[encoded data removed]",
      "text/plain": [
       "<Figure size 1200x1000 with 4 Axes>"
      ]
     },
     "metadata": {},
     "output_type": "display_data"
    }
   ],
   "source": [
    "data = pd.read_csv('./DQ_check/summary.csv')\n",
    "\n",
    "data['IM_missing_rate'] = (data['N_IM_missing']/16621)*100\n",
    "\n",
    "import matplotlib.pyplot as plt\n",
    "fig, axs = plt.subplots(2, 2, figsize=(12, 10))\n",
    "\n",
    "N = data.shape[0]\n",
    "ind = np.arange(N)\n",
    "\n",
    "ax = axs[0, 0]\n",
    "ax.scatter(ind, data['IM_missing_rate'], color='r', label='Image packets missing rate')\n",
    "ax.set_ylabel('Missing Image Packets (%)', fontsize=20)\n",
    "\n",
    "ax = axs[0, 1]\n",
    "ax.scatter(ind, data['N_IM_missing'], color='r', edgecolors='None', alpha=0.5, label='Missing\\nImage Packets')\n",
    "ax.scatter(ind, data['N_IM_packets'], color='g', alpha=0.5, label='Image Packets')\n",
    "ax.scatter(ind, data['N_packets'], color='b', alpha=0.5, label='Total Packets')\n",
    "ax.set_ylabel('Number of Packets', fontsize=20)\n",
    "\n",
    "ax = axs[1, 0]\n",
    "ax.scatter(ind, data['IM_missing_rate'], color='r', label='Image packets missing rate')\n",
    "ax.set_ylabel('Missing Image Packets (%)', fontsize=20)\n",
    "ax.set_ylim(-0.1, 1)\n",
    "\n",
    "ax = axs[1, 1]\n",
    "ax.scatter(ind, data['N_IM_missing'], color='r', edgecolors='None', alpha=0.5, label='Missing Image Packets')\n",
    "ax.scatter(ind, data['N_packets'], color='b', label='Total Packets')\n",
    "ax.scatter(ind, data['N_IM_packets'], color='g', label='Image Packets')\n",
    "ax.set_ylabel('Number of Packets', fontsize=20)\n",
    "ax.set_ylim(22000, 28000)\n",
    "\n",
    "for ax in axs.flat:\n",
    "    ax.set_xlabel('File Index', fontsize=15)\n",
    "    ax.tick_params(axis='both', which='major', labelsize=15)\n",
    "    ax.legend(fontsize=18)\n",
    "\n",
    "plt.tight_layout()\n",
    "plt.show()"
   ]
  },
  {
   "cell_type": "markdown",
   "metadata": {},
   "source": [
    "## origin"
   ]
  },
  {
   "cell_type": "code",
   "execution_count": 66,
   "metadata": {},
   "outputs": [
    {
     "name": "stderr",
     "output_type": "stream",
     "text": [
      "100%|██████████| 24412/24412 [00:17<00:00, 1418.91it/s] "
     ]
    },
    {
     "name": "stdout",
     "output_type": "stream",
     "text": [
      "Total Image Packets:  16621\n",
      "Total images:  18066048\n",
      "Missed Packets:  6\n",
      "Missed packet rate (packet/1000):  0.36098911016184343\n",
      "[(0, 1, '39aa'), (1, 1, '736c'), (24408, 0, '3bd1'), (24409, 0, 'c190'), (24410, 0, '97d2'), (24411, 0, 'f54a')]\n",
      "403f0001750007fe0d6606fc02bf0f3e00040bd4087f087f0000000024ff0105113250c80f000000e1231201000000000000000000000000000000000000000000000000000000000000000000000000000000000000000000000000000000000000000000000000000000000000000000000000000000000000000000000000000000000000000000000000000000000000000000000000000000000000000000000000000000000000000000000000000000000000000000000000000000000000000000000000000000000000000000000000000000000000000000000000000000000000000000000000000000000000000000000000000000000000000000000000000000000000000000000000000000000000000000000000000000000000000000000000000000000000000000000000000000000000000000000000000000000000000000000000000000000000000000000000000000000000000000000000000000000000000000000000000000000000000000000000000000000000000000000000000000000000000000000000000000000000000000000000000000000000000000000000000000000000000000000000000000000000000000000000000000000000000000000000000000000000000000000000000000000000000000000000000000000000000000000000000000000000000000000000000000000000000000000000000000000000000000000000000000000000000000000000000000000000000000000000000000000000000000000000000000000000000000000000000000000000000000000000000000000000000000000000000000000000000000000000000000000000000000000000000000000000000000000000000000000000000000000000000000000000000000000000000000000000000000000000000000000000000000000000000000000000000000000000000000000000000000000000000000000000000000000000000000000000000000000000000000000000000000000000000000000000000000000000000000000000000000000000000000000000000000000000000000000000000000000000000000000000000000000000000000000000000000000000000000000000000000000000000000000000000000000000000000000000000000000000000000000000000000000000000000000000000000000000000000000000000000000000000000000000000000000000000000000000000000000000000000000000000000000000000000000000000000000000000000000000000000000000000000000000000000000000000000000000000000000000000000000000000000000000000000000000000000000000000000000000000000000000000000000000000000000000000000000000000000000000000000000000000000000000000000000000000000000000000000000000000000000000000000000000000000000000000000000000000000000000000000000000000000000000000000d811a25617ca9f89ec638018ed48182f06cb405690759b6dd12214f3ddabb005c185d754951c1031a54c3365f913eefda0b603dd78cf2f2f2f11305a04547907594b6b75e548ec12216f2a5a8f5686ce80c6e0826287e8faaf70b15609fa59cbacaeaf20a52909a2a908d1a97ecda2b5f4c5dbf276a972a737f2ff6893c89a66f47fcce6551d64846c23d373d04f24d15c8016b037c42c0ddb42eeca107d20ae\n"
     ]
    },
    {
     "name": "stderr",
     "output_type": "stream",
     "text": [
      "\n"
     ]
    }
   ],
   "source": [
    "imgData = bytes()\n",
    "i = 0\n",
    "j=0\n",
    "l=0\n",
    "desyncs = []\n",
    "hk = []\n",
    "index = 1\n",
    "\n",
    "for k, packet in enumerate(tqdm(mpduPackets)):\n",
    "    \n",
    "    if packet[:2] == b'\\x55\\x40':\n",
    "        i += 1\n",
    "        index = int.from_bytes(packet[26:28],'big')\n",
    "        imgData += packet[28:-160]\n",
    "    elif packet[:2] == b'\\x40\\x3F':\n",
    "    # elif packet[:2] == b'\\x51\\xFF':\n",
    "        hk.append(packet.hex())\n",
    "        pass\n",
    "    else:\n",
    "        desyncs.append((k,index,packet[:2].hex()))\n",
    "        j+=1\n",
    "\n",
    "avg = 0\n",
    "imgData = imgData.rstrip(b'\\0')\n",
    "\n",
    "print('Total Image Packets: ', i)\n",
    "print('Total images: ',len(imgData))\n",
    "print('Missed Packets: ', j)\n",
    "print('Missed packet rate (packet/1000): ', (j/i)*1000)\n",
    "\n",
    "\n",
    "nfiles = len(glob.glob(os.path.join(folder_path, '*.bin')))\n",
    "dt_now = datetime.datetime.now()\n",
    "time_now = dt_now.strftime('%d_%H%M%S')\n",
    "with open(f'./optical/opt_frame_{nfiles}_{time_now}.bin', 'wb') as f:\n",
    "    f.write(imgData)\n",
    "\n",
    "print(desyncs)\n",
    "print(hk[20])"
   ]
  },
  {
   "cell_type": "code",
   "execution_count": 63,
   "metadata": {},
   "outputs": [
    {
     "data": {
      "text/plain": [
       "7785"
      ]
     },
     "execution_count": 63,
     "metadata": {},
     "output_type": "execute_result"
    }
   ],
   "source": [
    "len(hk)"
   ]
  }
 ],
 "metadata": {
  "kernelspec": {
   "display_name": "Eva02",
   "language": "python",
   "name": "python3"
  },
  "language_info": {
   "codemirror_mode": {
    "name": "ipython",
    "version": 3
   },
   "file_extension": ".py",
   "mimetype": "text/x-python",
   "name": "python",
   "nbconvert_exporter": "python",
   "pygments_lexer": "ipython3",
   "version": "3.12.1"
  }
 },
 "nbformat": 4,
 "nbformat_minor": 2
}
