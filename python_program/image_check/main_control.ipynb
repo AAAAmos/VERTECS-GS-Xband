{
 "cells": [
  {
   "cell_type": "code",
   "execution_count": null,
   "metadata": {},
   "outputs": [],
   "source": [
    "import os "
   ]
  },
  {
   "cell_type": "code",
   "execution_count": null,
   "metadata": {},
   "outputs": [],
   "source": [
    "\n",
    "raw_data_folder = \"./raw_data/\"\n",
    "for file in sorted(raw_data_folder):  # Process in order\n",
    "    file_path = os.path.join(raw_data_folder, file)\n",
    "    print(file_path)"
   ]
  }
 ],
 "metadata": {
  "kernelspec": {
   "display_name": "Eva02",
   "language": "python",
   "name": "python3"
  },
  "language_info": {
   "name": "python",
   "version": "3.12.1"
  }
 },
 "nbformat": 4,
 "nbformat_minor": 2
}
